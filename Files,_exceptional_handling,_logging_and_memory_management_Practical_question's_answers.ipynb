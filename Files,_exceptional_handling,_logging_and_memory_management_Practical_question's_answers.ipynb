{
  "nbformat": 4,
  "nbformat_minor": 0,
  "metadata": {
    "colab": {
      "provenance": []
    },
    "kernelspec": {
      "name": "python3",
      "display_name": "Python 3"
    },
    "language_info": {
      "name": "python"
    }
  },
  "cells": [
    {
      "cell_type": "markdown",
      "source": [
        "**1. How can you open a file for writing in Python and write a string to it?**"
      ],
      "metadata": {
        "id": "O5yBQToSzyZu"
      }
    },
    {
      "cell_type": "code",
      "source": [
        "with open(\"output.txt\", \"w\") as f:\n",
        "    f.write(\"Hello, Python World!\")"
      ],
      "metadata": {
        "id": "PZ2eEbzD0KR-"
      },
      "execution_count": 32,
      "outputs": []
    },
    {
      "cell_type": "markdown",
      "source": [
        "**2. Write a Python program to read the contents of a file and print each line.**"
      ],
      "metadata": {
        "id": "0-0flWiL0Rbn"
      }
    },
    {
      "cell_type": "code",
      "source": [
        "with open(\"data.txt\", \"r\") as f:\n",
        "    for line in f:\n",
        "        print(line.strip())"
      ],
      "metadata": {
        "id": "0hzJCSKI0NBP"
      },
      "execution_count": 33,
      "outputs": []
    },
    {
      "cell_type": "markdown",
      "source": [
        "**3. How would you handle a case where the file doesn't exist while trying to open it for reading?**"
      ],
      "metadata": {
        "id": "iKGtYpr20bTC"
      }
    },
    {
      "cell_type": "code",
      "source": [
        "try:\n",
        "    with open(\"missing.txt\", \"r\") as f:\n",
        "        print(f.read())\n",
        "except FileNotFoundError:\n",
        "    print(\"File does not exist!\")"
      ],
      "metadata": {
        "colab": {
          "base_uri": "https://localhost:8080/"
        },
        "id": "qUCfSoSQ0Zp_",
        "outputId": "0c2e6356-479a-40ba-9706-ac143704d4bf"
      },
      "execution_count": 34,
      "outputs": [
        {
          "output_type": "stream",
          "name": "stdout",
          "text": [
            "File does not exist!\n"
          ]
        }
      ]
    },
    {
      "cell_type": "markdown",
      "source": [
        "**4. Write a Python script that reads from one file and writes its content to another file.**"
      ],
      "metadata": {
        "id": "Otxc43nz0hvT"
      }
    },
    {
      "cell_type": "code",
      "source": [
        "with open(\"source.txt\", \"w\") as f:\n",
        "    pass\n",
        "with open(\"source.txt\", \"r\") as src, open(\"dest.txt\", \"w\") as dst:\n",
        "    dst.write(src.read())"
      ],
      "metadata": {
        "id": "C1pPFUKy0n-n"
      },
      "execution_count": 37,
      "outputs": []
    },
    {
      "cell_type": "markdown",
      "source": [
        "**5. How would you catch and handle division by zero error in Python?**"
      ],
      "metadata": {
        "id": "OvssvH-s0o0L"
      }
    },
    {
      "cell_type": "code",
      "source": [
        "try:\n",
        "    result = 10 / 0\n",
        "except ZeroDivisionError:\n",
        "    print(\"Cannot divide by zero!\")"
      ],
      "metadata": {
        "colab": {
          "base_uri": "https://localhost:8080/"
        },
        "id": "7gEUsgE90ygD",
        "outputId": "18b6b16e-0593-40ca-f422-2141cfda185f"
      },
      "execution_count": 38,
      "outputs": [
        {
          "output_type": "stream",
          "name": "stdout",
          "text": [
            "Cannot divide by zero!\n"
          ]
        }
      ]
    },
    {
      "cell_type": "markdown",
      "source": [
        "**6. Write a Python program that logs an error message to a log file when a division by zero exception occurs.**"
      ],
      "metadata": {
        "id": "nEJ5oTbx0ztB"
      }
    },
    {
      "cell_type": "code",
      "source": [
        "import logging\n",
        "logging.basicConfig(filename=\"errors.log\", level=logging.ERROR)\n",
        "\n",
        "try:\n",
        "    x = 10 / 0\n",
        "except ZeroDivisionError as e:\n",
        "    logging.error(\"Division by zero occurred: %s\", e)"
      ],
      "metadata": {
        "colab": {
          "base_uri": "https://localhost:8080/"
        },
        "id": "ipsXiMG805Wy",
        "outputId": "a8d45db3-a0f7-4bf7-8ea6-ef96428f62ca"
      },
      "execution_count": 39,
      "outputs": [
        {
          "output_type": "stream",
          "name": "stderr",
          "text": [
            "ERROR:root:Division by zero occurred: division by zero\n"
          ]
        }
      ]
    },
    {
      "cell_type": "markdown",
      "source": [
        "**7. How do you log information at different levels (INFO, ERROR, WARNING) in Python using the logging module?**"
      ],
      "metadata": {
        "id": "JItAT3ZR06Ad"
      }
    },
    {
      "cell_type": "code",
      "source": [
        "import logging\n",
        "logging.basicConfig(level=logging.DEBUG)\n",
        "\n",
        "logging.info(\"This is an info message\")\n",
        "logging.warning(\"This is a warning\")\n",
        "logging.error(\"This is an error\")"
      ],
      "metadata": {
        "colab": {
          "base_uri": "https://localhost:8080/"
        },
        "id": "OSXkOJXb0_cV",
        "outputId": "4a4cc85a-1709-4c34-ac3a-92c7ef7834c1"
      },
      "execution_count": 40,
      "outputs": [
        {
          "output_type": "stream",
          "name": "stderr",
          "text": [
            "WARNING:root:This is a warning\n",
            "ERROR:root:This is an error\n"
          ]
        }
      ]
    },
    {
      "cell_type": "markdown",
      "source": [
        "**8. Write a program to handle a file opening error using exception handling.**"
      ],
      "metadata": {
        "id": "Tf5DUiyR1Act"
      }
    },
    {
      "cell_type": "code",
      "source": [
        "try:\n",
        "    with open(\"unknown.txt\") as f:\n",
        "        print(f.read())\n",
        "except FileNotFoundError:\n",
        "    print(\"Error: File not found\")"
      ],
      "metadata": {
        "colab": {
          "base_uri": "https://localhost:8080/"
        },
        "id": "Ct3rC9K41Hnr",
        "outputId": "42e9223d-55fa-4c89-93de-17e93fcaa95b"
      },
      "execution_count": 41,
      "outputs": [
        {
          "output_type": "stream",
          "name": "stdout",
          "text": [
            "Error: File not found\n"
          ]
        }
      ]
    },
    {
      "cell_type": "markdown",
      "source": [
        "**9. How can you read a file line by line and store its content in a list in Python?**"
      ],
      "metadata": {
        "id": "kI7ZWcrx1IeL"
      }
    },
    {
      "cell_type": "code",
      "source": [
        "with open(\"data.txt\") as f:\n",
        "    lines = f.readlines()\n",
        "print(lines)"
      ],
      "metadata": {
        "colab": {
          "base_uri": "https://localhost:8080/"
        },
        "id": "BvhgJ0bn1OeH",
        "outputId": "233f7529-78c2-4e2e-b04c-0154271687ba"
      },
      "execution_count": 42,
      "outputs": [
        {
          "output_type": "stream",
          "name": "stdout",
          "text": [
            "[]\n"
          ]
        }
      ]
    },
    {
      "cell_type": "markdown",
      "source": [
        "**10. How can you append data to an existing file in Python?**"
      ],
      "metadata": {
        "id": "p13uzy9i1PI5"
      }
    },
    {
      "cell_type": "code",
      "source": [
        "with open(\"output.txt\", \"a\") as f:\n",
        "    f.write(\"\\nAppended line\")"
      ],
      "metadata": {
        "id": "hhTnv1mA1Uyz"
      },
      "execution_count": 43,
      "outputs": []
    },
    {
      "cell_type": "markdown",
      "source": [
        "**11. Write a Python program that uses a try-except block to handle an error when attempting to access a\n",
        "dictionary key that doesn't exist.**"
      ],
      "metadata": {
        "id": "qvl_JGL61Wyr"
      }
    },
    {
      "cell_type": "code",
      "source": [
        "data = {\"name\": \"Ankan\"}\n",
        "try:\n",
        "    print(data[\"age\"])\n",
        "except KeyError:\n",
        "    print(\"Key not found!\")"
      ],
      "metadata": {
        "colab": {
          "base_uri": "https://localhost:8080/"
        },
        "id": "uNVd9DZ71byO",
        "outputId": "962a3c26-15ee-407d-ffa5-3753167ba5d3"
      },
      "execution_count": 44,
      "outputs": [
        {
          "output_type": "stream",
          "name": "stdout",
          "text": [
            "Key not found!\n"
          ]
        }
      ]
    },
    {
      "cell_type": "markdown",
      "source": [
        "**12. Write a program that demonstrates using multiple except blocks to handle different types of exceptions.**"
      ],
      "metadata": {
        "id": "b5jMUW-s1cWW"
      }
    },
    {
      "cell_type": "code",
      "source": [
        "try:\n",
        "    x = int(\"abc\")\n",
        "    y = 10 / 0\n",
        "except ValueError:\n",
        "    print(\"Invalid conversion!\")\n",
        "except ZeroDivisionError:\n",
        "    print(\"Cannot divide by zero!\")"
      ],
      "metadata": {
        "colab": {
          "base_uri": "https://localhost:8080/"
        },
        "id": "DRCpNsMF1i1-",
        "outputId": "f23c2c4e-549a-419b-e73a-a73e440a75b5"
      },
      "execution_count": 45,
      "outputs": [
        {
          "output_type": "stream",
          "name": "stdout",
          "text": [
            "Invalid conversion!\n"
          ]
        }
      ]
    },
    {
      "cell_type": "markdown",
      "source": [
        "**13. How would you check if a file exists before attempting to read it in Python?**"
      ],
      "metadata": {
        "id": "XHmXYnhk1j9o"
      }
    },
    {
      "cell_type": "code",
      "source": [
        "import os\n",
        "if os.path.exists(\"data.txt\"):\n",
        "    with open(\"data.txt\") as f:\n",
        "        print(f.read())\n",
        "else:\n",
        "    print(\"File not found\")"
      ],
      "metadata": {
        "colab": {
          "base_uri": "https://localhost:8080/"
        },
        "id": "PIqV_yZ61raz",
        "outputId": "ca4b7c3d-5650-40d3-b6a6-69cc2914142c"
      },
      "execution_count": 46,
      "outputs": [
        {
          "output_type": "stream",
          "name": "stdout",
          "text": [
            "\n"
          ]
        }
      ]
    },
    {
      "cell_type": "markdown",
      "source": [
        "**14. Write a program that uses the logging module to log both informational and error messages.**"
      ],
      "metadata": {
        "id": "gGkHsnti1sfw"
      }
    },
    {
      "cell_type": "code",
      "source": [
        "import logging\n",
        "logging.basicConfig(filename=\"app.log\", level=logging.INFO)\n",
        "\n",
        "logging.info(\"Program started\")\n",
        "try:\n",
        "    result = 10 / 0\n",
        "except ZeroDivisionError:\n",
        "    logging.error(\"Error: Division by zero\")"
      ],
      "metadata": {
        "colab": {
          "base_uri": "https://localhost:8080/"
        },
        "id": "qZan-Slt1yho",
        "outputId": "dd1462fd-a63e-43ce-86ac-9f8844918b5b"
      },
      "execution_count": 47,
      "outputs": [
        {
          "output_type": "stream",
          "name": "stderr",
          "text": [
            "ERROR:root:Error: Division by zero\n"
          ]
        }
      ]
    },
    {
      "cell_type": "markdown",
      "source": [
        "**15. Write a Python program that prints the content of a file and handles the case when the file is empty.**"
      ],
      "metadata": {
        "id": "QAMg6KkT1zlT"
      }
    },
    {
      "cell_type": "code",
      "source": [
        "with open(\"data.txt\", \"r\") as f:\n",
        "    content = f.read()\n",
        "    if content:\n",
        "        print(content)\n",
        "    else:\n",
        "        print(\"File is empty\")"
      ],
      "metadata": {
        "colab": {
          "base_uri": "https://localhost:8080/"
        },
        "id": "VH0gsEUf15u9",
        "outputId": "dfc286f5-e10a-487d-bb5a-592b3a501fcc"
      },
      "execution_count": 48,
      "outputs": [
        {
          "output_type": "stream",
          "name": "stdout",
          "text": [
            "File is empty\n"
          ]
        }
      ]
    },
    {
      "cell_type": "markdown",
      "source": [
        "**16. Demonstrate how to use memory profiling to check the memory usage of a small program.**"
      ],
      "metadata": {
        "id": "fQVrsbtw17Al"
      }
    },
    {
      "cell_type": "code",
      "source": [
        "!pip install memory_profiler\n",
        "from memory_profiler import profile\n",
        "\n",
        "@profile\n",
        "def calc():\n",
        "    nums = [i**2 for i in range(10000)]\n",
        "    return sum(nums)\n",
        "\n",
        "calc()"
      ],
      "metadata": {
        "colab": {
          "base_uri": "https://localhost:8080/"
        },
        "id": "HFmrQF8f1_at",
        "outputId": "d617ff6b-e521-4368-a986-76b7ca6ea4fb"
      },
      "execution_count": 50,
      "outputs": [
        {
          "output_type": "stream",
          "name": "stdout",
          "text": [
            "Requirement already satisfied: memory_profiler in /usr/local/lib/python3.12/dist-packages (0.61.0)\n",
            "Requirement already satisfied: psutil in /usr/local/lib/python3.12/dist-packages (from memory_profiler) (5.9.5)\n",
            "ERROR: Could not find file /tmp/ipython-input-3382456591.py\n"
          ]
        },
        {
          "output_type": "execute_result",
          "data": {
            "text/plain": [
              "333283335000"
            ]
          },
          "metadata": {},
          "execution_count": 50
        }
      ]
    },
    {
      "cell_type": "markdown",
      "source": [
        "**17. Write a Python program to create and write a list of numbers to a file, one number per line.**"
      ],
      "metadata": {
        "id": "_qS-nLcB2AY0"
      }
    },
    {
      "cell_type": "code",
      "source": [
        "numbers = [1, 2, 3, 4, 5]\n",
        "with open(\"numbers.txt\", \"w\") as f:\n",
        "    for n in numbers:\n",
        "        f.write(str(n) + \"\\n\")"
      ],
      "metadata": {
        "id": "c-rHesl72Gfz"
      },
      "execution_count": 51,
      "outputs": []
    },
    {
      "cell_type": "markdown",
      "source": [
        "**18. How would you implement a basic logging setup that logs to a file with rotation after 1MB?**"
      ],
      "metadata": {
        "id": "o2X-FLav2HQE"
      }
    },
    {
      "cell_type": "code",
      "source": [
        "import logging\n",
        "from logging.handlers import RotatingFileHandler\n",
        "\n",
        "handler = RotatingFileHandler(\"app.log\", maxBytes=1_000_000, backupCount=3)\n",
        "logging.basicConfig(handlers=[handler], level=logging.INFO)\n",
        "\n",
        "logging.info(\"This will rotate after 1MB\")"
      ],
      "metadata": {
        "id": "Vfi8QhwA2NJ1"
      },
      "execution_count": 52,
      "outputs": []
    },
    {
      "cell_type": "markdown",
      "source": [
        "**19. Write a program that handles both IndexError and KeyError using a try-except block.**"
      ],
      "metadata": {
        "id": "bXX6R6IK2N8e"
      }
    },
    {
      "cell_type": "code",
      "source": [
        "data = {\"name\": \"Ankan\"}\n",
        "try:\n",
        "    print(data[\"age\"])\n",
        "    lst = [1, 2]\n",
        "    print(lst[5])\n",
        "except KeyError:\n",
        "    print(\"Dictionary key not found\")\n",
        "except IndexError:\n",
        "    print(\"List index out of range\")"
      ],
      "metadata": {
        "colab": {
          "base_uri": "https://localhost:8080/"
        },
        "id": "cLnDfbnb2TNp",
        "outputId": "b9bac660-5783-4138-c74d-dc233fe73310"
      },
      "execution_count": 53,
      "outputs": [
        {
          "output_type": "stream",
          "name": "stdout",
          "text": [
            "Dictionary key not found\n"
          ]
        }
      ]
    },
    {
      "cell_type": "markdown",
      "source": [
        "**20. How would you open a file and read its contents using a context manager in Python?**"
      ],
      "metadata": {
        "id": "UZRK1Do52UHo"
      }
    },
    {
      "cell_type": "code",
      "source": [
        "with open(\"data.txt\", \"r\") as f:\n",
        "    print(f.read())"
      ],
      "metadata": {
        "colab": {
          "base_uri": "https://localhost:8080/"
        },
        "id": "XyhvKa9k2Zqc",
        "outputId": "62c75642-e6ef-4510-9cb0-f6d980d48df6"
      },
      "execution_count": 54,
      "outputs": [
        {
          "output_type": "stream",
          "name": "stdout",
          "text": [
            "\n"
          ]
        }
      ]
    },
    {
      "cell_type": "markdown",
      "source": [
        "**21. Write a Python program that reads a file and prints the number of occurrences of a specific word.**"
      ],
      "metadata": {
        "id": "KMD1RjOs2aNA"
      }
    },
    {
      "cell_type": "code",
      "source": [
        "word = \"Python\"\n",
        "count = 0\n",
        "with open(\"data.txt\", \"r\") as f:\n",
        "    for line in f:\n",
        "        count += line.split().count(word)\n",
        "print(f\"{word} occurs {count} times\")"
      ],
      "metadata": {
        "colab": {
          "base_uri": "https://localhost:8080/"
        },
        "id": "-pqSdlaA2f5q",
        "outputId": "ba69f585-2df2-4413-bd96-d52c690d9ca9"
      },
      "execution_count": 55,
      "outputs": [
        {
          "output_type": "stream",
          "name": "stdout",
          "text": [
            "Python occurs 0 times\n"
          ]
        }
      ]
    },
    {
      "cell_type": "markdown",
      "source": [
        "**22. How can you check if a file is empty before attempting to read its contents?**"
      ],
      "metadata": {
        "id": "PkSKk1nO2grJ"
      }
    },
    {
      "cell_type": "code",
      "source": [
        "import os\n",
        "if os.path.getsize(\"data.txt\") == 0:\n",
        "    print(\"File is empty\")\n",
        "else:\n",
        "    with open(\"data.txt\") as f:\n",
        "        print(f.read())"
      ],
      "metadata": {
        "colab": {
          "base_uri": "https://localhost:8080/"
        },
        "id": "r6wSNTwW2l_5",
        "outputId": "94e0edef-3880-47c7-d80d-7133285e9cf0"
      },
      "execution_count": 56,
      "outputs": [
        {
          "output_type": "stream",
          "name": "stdout",
          "text": [
            "File is empty\n"
          ]
        }
      ]
    },
    {
      "cell_type": "markdown",
      "source": [
        "**23. Write a Python program that writes to a log file when an error occurs during file handling.**"
      ],
      "metadata": {
        "id": "vG6reilo2rD1"
      }
    },
    {
      "cell_type": "code",
      "source": [
        "import logging\n",
        "logging.basicConfig(filename=\"file_errors.log\", level=logging.ERROR)\n",
        "\n",
        "try:\n",
        "    with open(\"unknown.txt\") as f:\n",
        "        print(f.read())\n",
        "except Exception as e:\n",
        "    logging.error(\"File handling error: %s\", e)"
      ],
      "metadata": {
        "colab": {
          "base_uri": "https://localhost:8080/"
        },
        "id": "Rj6rlzgk2u7v",
        "outputId": "354094f1-3819-4f90-ee52-cdafbde6e532"
      },
      "execution_count": 57,
      "outputs": [
        {
          "output_type": "stream",
          "name": "stderr",
          "text": [
            "ERROR:root:File handling error: [Errno 2] No such file or directory: 'unknown.txt'\n"
          ]
        }
      ]
    }
  ]
}